{
 "cells": [
  {
   "cell_type": "code",
   "execution_count": 1,
   "id": "f4ad7540",
   "metadata": {},
   "outputs": [],
   "source": [
    "import pandas as pd\n",
    "import numpy  as np"
   ]
  },
  {
   "cell_type": "code",
   "execution_count": 2,
   "id": "5b354856",
   "metadata": {},
   "outputs": [],
   "source": [
    "df = pd.read_csv('b.csv', encoding='latin-1')"
   ]
  },
  {
   "cell_type": "code",
   "execution_count": 3,
   "id": "cd8dcdd1",
   "metadata": {},
   "outputs": [
    {
     "data": {
      "text/html": [
       "<div>\n",
       "<style scoped>\n",
       "    .dataframe tbody tr th:only-of-type {\n",
       "        vertical-align: middle;\n",
       "    }\n",
       "\n",
       "    .dataframe tbody tr th {\n",
       "        vertical-align: top;\n",
       "    }\n",
       "\n",
       "    .dataframe thead th {\n",
       "        text-align: right;\n",
       "    }\n",
       "</style>\n",
       "<table border=\"1\" class=\"dataframe\">\n",
       "  <thead>\n",
       "    <tr style=\"text-align: right;\">\n",
       "      <th></th>\n",
       "      <th>S.No.</th>\n",
       "      <th>Review</th>\n",
       "      <th>Rating</th>\n",
       "    </tr>\n",
       "  </thead>\n",
       "  <tbody>\n",
       "    <tr>\n",
       "      <th>0</th>\n",
       "      <td>1</td>\n",
       "      <td>nice hotel expensive parking got good deal sta...</td>\n",
       "      <td>4</td>\n",
       "    </tr>\n",
       "    <tr>\n",
       "      <th>1</th>\n",
       "      <td>2</td>\n",
       "      <td>ok nothing special charge diamond member hilto...</td>\n",
       "      <td>2</td>\n",
       "    </tr>\n",
       "    <tr>\n",
       "      <th>2</th>\n",
       "      <td>3</td>\n",
       "      <td>nice rooms not 4* experience hotel monaco seat...</td>\n",
       "      <td>3</td>\n",
       "    </tr>\n",
       "    <tr>\n",
       "      <th>3</th>\n",
       "      <td>4</td>\n",
       "      <td>unique \\tgreat stay \\twonderful time hotel mon...</td>\n",
       "      <td>5</td>\n",
       "    </tr>\n",
       "    <tr>\n",
       "      <th>4</th>\n",
       "      <td>5</td>\n",
       "      <td>great stay great stay \\twent seahawk game awes...</td>\n",
       "      <td>5</td>\n",
       "    </tr>\n",
       "  </tbody>\n",
       "</table>\n",
       "</div>"
      ],
      "text/plain": [
       "   S.No.                                             Review  Rating\n",
       "0      1  nice hotel expensive parking got good deal sta...       4\n",
       "1      2  ok nothing special charge diamond member hilto...       2\n",
       "2      3  nice rooms not 4* experience hotel monaco seat...       3\n",
       "3      4  unique \\tgreat stay \\twonderful time hotel mon...       5\n",
       "4      5  great stay great stay \\twent seahawk game awes...       5"
      ]
     },
     "execution_count": 3,
     "metadata": {},
     "output_type": "execute_result"
    }
   ],
   "source": [
    "df.head()"
   ]
  },
  {
   "cell_type": "markdown",
   "id": "3e6ee73b",
   "metadata": {},
   "source": [
    "## creating a function that will give the compound score of each text"
   ]
  },
  {
   "cell_type": "code",
   "execution_count": 4,
   "id": "2c628aac",
   "metadata": {},
   "outputs": [
    {
     "name": "stderr",
     "output_type": "stream",
     "text": [
      "[nltk_data] Downloading package vader_lexicon to\n",
      "[nltk_data]     /home/kanhaiya/nltk_data...\n",
      "[nltk_data]   Package vader_lexicon is already up-to-date!\n"
     ]
    },
    {
     "data": {
      "text/plain": [
       "True"
      ]
     },
     "execution_count": 4,
     "metadata": {},
     "output_type": "execute_result"
    }
   ],
   "source": [
    "from nltk.sentiment import SentimentIntensityAnalyzer\n",
    "import nltk\n",
    "nltk.download('vader_lexicon')"
   ]
  },
  {
   "cell_type": "code",
   "execution_count": 6,
   "id": "5b698685",
   "metadata": {},
   "outputs": [],
   "source": [
    "analyzer  =   SentimentIntensityAnalyzer()\n",
    "\n",
    "def compound_score_text(text):\n",
    "    return analyzer.polarity_scores(text)['compound']\n",
    "\n",
    "def sentiments_converter(score):\n",
    "    stmt = ''\n",
    "    if score >= 0.5:\n",
    "        stmt = 'positive'\n",
    "    elif score <= -0.5:\n",
    "        stmt = 'negative'\n",
    "    else:\n",
    "        stmt = 'neutral'\n",
    "    return stmt"
   ]
  },
  {
   "cell_type": "markdown",
   "id": "47fd1c1b",
   "metadata": {},
   "source": [
    "## Checking the info of columns"
   ]
  },
  {
   "cell_type": "code",
   "execution_count": 7,
   "id": "f0ae28db",
   "metadata": {},
   "outputs": [],
   "source": [
    "df['Review'] = df['Review'].astype('str')"
   ]
  },
  {
   "cell_type": "code",
   "execution_count": 8,
   "id": "5037cebe",
   "metadata": {},
   "outputs": [
    {
     "name": "stdout",
     "output_type": "stream",
     "text": [
      "<class 'pandas.core.frame.DataFrame'>\n",
      "RangeIndex: 20491 entries, 0 to 20490\n",
      "Data columns (total 3 columns):\n",
      " #   Column  Non-Null Count  Dtype \n",
      "---  ------  --------------  ----- \n",
      " 0   S.No.   20491 non-null  int64 \n",
      " 1   Review  20491 non-null  object\n",
      " 2   Rating  20491 non-null  int64 \n",
      "dtypes: int64(2), object(1)\n",
      "memory usage: 480.4+ KB\n"
     ]
    }
   ],
   "source": [
    "df.info()"
   ]
  },
  {
   "cell_type": "code",
   "execution_count": 9,
   "id": "d350898f",
   "metadata": {},
   "outputs": [],
   "source": [
    "polarity_scores  =  df['Review'].apply(compound_score_text)\n",
    "df['sentiment_score'] = polarity_scores\n",
    "\n",
    "df['sentiment']  =  df['sentiment_score'].apply(sentiments_converter)"
   ]
  },
  {
   "cell_type": "markdown",
   "id": "a3d0a284",
   "metadata": {},
   "source": [
    "## Saving the new dataset"
   ]
  },
  {
   "cell_type": "code",
   "execution_count": 10,
   "id": "b3ad67a0",
   "metadata": {},
   "outputs": [],
   "source": [
    "df.to_csv('Trip_adv_sentiment', index= False)"
   ]
  },
  {
   "cell_type": "code",
   "execution_count": 11,
   "id": "f5f5912a",
   "metadata": {},
   "outputs": [
    {
     "data": {
      "text/html": [
       "<div>\n",
       "<style scoped>\n",
       "    .dataframe tbody tr th:only-of-type {\n",
       "        vertical-align: middle;\n",
       "    }\n",
       "\n",
       "    .dataframe tbody tr th {\n",
       "        vertical-align: top;\n",
       "    }\n",
       "\n",
       "    .dataframe thead th {\n",
       "        text-align: right;\n",
       "    }\n",
       "</style>\n",
       "<table border=\"1\" class=\"dataframe\">\n",
       "  <thead>\n",
       "    <tr style=\"text-align: right;\">\n",
       "      <th></th>\n",
       "      <th>S.No.</th>\n",
       "      <th>Review</th>\n",
       "      <th>Rating</th>\n",
       "      <th>sentiment_score</th>\n",
       "      <th>sentiment</th>\n",
       "    </tr>\n",
       "  </thead>\n",
       "  <tbody>\n",
       "    <tr>\n",
       "      <th>0</th>\n",
       "      <td>1</td>\n",
       "      <td>nice hotel expensive parking got good deal sta...</td>\n",
       "      <td>4</td>\n",
       "      <td>0.9747</td>\n",
       "      <td>positive</td>\n",
       "    </tr>\n",
       "    <tr>\n",
       "      <th>1</th>\n",
       "      <td>2</td>\n",
       "      <td>ok nothing special charge diamond member hilto...</td>\n",
       "      <td>2</td>\n",
       "      <td>0.9787</td>\n",
       "      <td>positive</td>\n",
       "    </tr>\n",
       "    <tr>\n",
       "      <th>2</th>\n",
       "      <td>3</td>\n",
       "      <td>nice rooms not 4* experience hotel monaco seat...</td>\n",
       "      <td>3</td>\n",
       "      <td>0.9889</td>\n",
       "      <td>positive</td>\n",
       "    </tr>\n",
       "    <tr>\n",
       "      <th>3</th>\n",
       "      <td>4</td>\n",
       "      <td>unique \\tgreat stay \\twonderful time hotel mon...</td>\n",
       "      <td>5</td>\n",
       "      <td>0.9912</td>\n",
       "      <td>positive</td>\n",
       "    </tr>\n",
       "    <tr>\n",
       "      <th>4</th>\n",
       "      <td>5</td>\n",
       "      <td>great stay great stay \\twent seahawk game awes...</td>\n",
       "      <td>5</td>\n",
       "      <td>0.9797</td>\n",
       "      <td>positive</td>\n",
       "    </tr>\n",
       "  </tbody>\n",
       "</table>\n",
       "</div>"
      ],
      "text/plain": [
       "   S.No.                                             Review  Rating  \\\n",
       "0      1  nice hotel expensive parking got good deal sta...       4   \n",
       "1      2  ok nothing special charge diamond member hilto...       2   \n",
       "2      3  nice rooms not 4* experience hotel monaco seat...       3   \n",
       "3      4  unique \\tgreat stay \\twonderful time hotel mon...       5   \n",
       "4      5  great stay great stay \\twent seahawk game awes...       5   \n",
       "\n",
       "   sentiment_score sentiment  \n",
       "0           0.9747  positive  \n",
       "1           0.9787  positive  \n",
       "2           0.9889  positive  \n",
       "3           0.9912  positive  \n",
       "4           0.9797  positive  "
      ]
     },
     "execution_count": 11,
     "metadata": {},
     "output_type": "execute_result"
    }
   ],
   "source": [
    "df.head()"
   ]
  },
  {
   "cell_type": "code",
   "execution_count": 12,
   "id": "0ebe766d",
   "metadata": {},
   "outputs": [
    {
     "data": {
      "text/plain": [
       "sentiment\n",
       "positive    18263\n",
       "negative     1162\n",
       "neutral      1066\n",
       "Name: count, dtype: int64"
      ]
     },
     "execution_count": 12,
     "metadata": {},
     "output_type": "execute_result"
    }
   ],
   "source": [
    "df['sentiment'].value_counts()"
   ]
  },
  {
   "cell_type": "markdown",
   "id": "91c1ff41",
   "metadata": {},
   "source": [
    "## Loading data"
   ]
  },
  {
   "cell_type": "code",
   "execution_count": 13,
   "id": "97c63105",
   "metadata": {},
   "outputs": [
    {
     "data": {
      "text/html": [
       "<div>\n",
       "<style scoped>\n",
       "    .dataframe tbody tr th:only-of-type {\n",
       "        vertical-align: middle;\n",
       "    }\n",
       "\n",
       "    .dataframe tbody tr th {\n",
       "        vertical-align: top;\n",
       "    }\n",
       "\n",
       "    .dataframe thead th {\n",
       "        text-align: right;\n",
       "    }\n",
       "</style>\n",
       "<table border=\"1\" class=\"dataframe\">\n",
       "  <thead>\n",
       "    <tr style=\"text-align: right;\">\n",
       "      <th></th>\n",
       "      <th>S.No.</th>\n",
       "      <th>Review</th>\n",
       "      <th>Rating</th>\n",
       "      <th>sentiment_score</th>\n",
       "      <th>sentiment</th>\n",
       "    </tr>\n",
       "  </thead>\n",
       "  <tbody>\n",
       "    <tr>\n",
       "      <th>0</th>\n",
       "      <td>1</td>\n",
       "      <td>nice hotel expensive parking got good deal sta...</td>\n",
       "      <td>4</td>\n",
       "      <td>0.9747</td>\n",
       "      <td>positive</td>\n",
       "    </tr>\n",
       "    <tr>\n",
       "      <th>1</th>\n",
       "      <td>2</td>\n",
       "      <td>ok nothing special charge diamond member hilto...</td>\n",
       "      <td>2</td>\n",
       "      <td>0.9787</td>\n",
       "      <td>positive</td>\n",
       "    </tr>\n",
       "    <tr>\n",
       "      <th>2</th>\n",
       "      <td>3</td>\n",
       "      <td>nice rooms not 4* experience hotel monaco seat...</td>\n",
       "      <td>3</td>\n",
       "      <td>0.9889</td>\n",
       "      <td>positive</td>\n",
       "    </tr>\n",
       "    <tr>\n",
       "      <th>3</th>\n",
       "      <td>4</td>\n",
       "      <td>unique \\tgreat stay \\twonderful time hotel mon...</td>\n",
       "      <td>5</td>\n",
       "      <td>0.9912</td>\n",
       "      <td>positive</td>\n",
       "    </tr>\n",
       "    <tr>\n",
       "      <th>4</th>\n",
       "      <td>5</td>\n",
       "      <td>great stay great stay \\twent seahawk game awes...</td>\n",
       "      <td>5</td>\n",
       "      <td>0.9797</td>\n",
       "      <td>positive</td>\n",
       "    </tr>\n",
       "  </tbody>\n",
       "</table>\n",
       "</div>"
      ],
      "text/plain": [
       "   S.No.                                             Review  Rating  \\\n",
       "0      1  nice hotel expensive parking got good deal sta...       4   \n",
       "1      2  ok nothing special charge diamond member hilto...       2   \n",
       "2      3  nice rooms not 4* experience hotel monaco seat...       3   \n",
       "3      4  unique \\tgreat stay \\twonderful time hotel mon...       5   \n",
       "4      5  great stay great stay \\twent seahawk game awes...       5   \n",
       "\n",
       "   sentiment_score sentiment  \n",
       "0           0.9747  positive  \n",
       "1           0.9787  positive  \n",
       "2           0.9889  positive  \n",
       "3           0.9912  positive  \n",
       "4           0.9797  positive  "
      ]
     },
     "execution_count": 13,
     "metadata": {},
     "output_type": "execute_result"
    }
   ],
   "source": [
    "data  =  pd.read_csv('Trip_adv_sentiment')\n",
    "data.head()"
   ]
  },
  {
   "cell_type": "code",
   "execution_count": 14,
   "id": "99320a8a",
   "metadata": {},
   "outputs": [
    {
     "data": {
      "text/plain": [
       "S.No.              0\n",
       "Review             0\n",
       "Rating             0\n",
       "sentiment_score    0\n",
       "sentiment          0\n",
       "dtype: int64"
      ]
     },
     "execution_count": 14,
     "metadata": {},
     "output_type": "execute_result"
    }
   ],
   "source": [
    "data.isnull().sum()"
   ]
  },
  {
   "cell_type": "markdown",
   "id": "527a97eb",
   "metadata": {},
   "source": [
    "# EDA"
   ]
  },
  {
   "cell_type": "code",
   "execution_count": 15,
   "id": "d2b8f1cd",
   "metadata": {},
   "outputs": [],
   "source": [
    "from matplotlib import pyplot as plt\n",
    "import seaborn as sns"
   ]
  },
  {
   "cell_type": "code",
   "execution_count": 16,
   "id": "12514bec",
   "metadata": {},
   "outputs": [
    {
     "data": {
      "text/plain": [
       "<Axes: xlabel='sentiment', ylabel='count'>"
      ]
     },
     "execution_count": 16,
     "metadata": {},
     "output_type": "execute_result"
    },
    {
     "data": {
      "image/png": "[encoded data removed]",
      "text/plain": [
       "<Figure size 640x480 with 1 Axes>"
      ]
     },
     "metadata": {},
     "output_type": "display_data"
    }
   ],
   "source": [
    "sns.countplot(data = data, x = data['sentiment'])"
   ]
  },
  {
   "cell_type": "code",
   "execution_count": 17,
   "id": "a60e8c77",
   "metadata": {},
   "outputs": [
    {
     "data": {
      "text/plain": [
       "<Axes: xlabel='sentiment', ylabel='Rating'>"
      ]
     },
     "execution_count": 17,
     "metadata": {},
     "output_type": "execute_result"
    },
    {
     "data": {
      "image/png": "[encoded data removed]",
      "text/plain": [
       "<Figure size 640x480 with 1 Axes>"
      ]
     },
     "metadata": {},
     "output_type": "display_data"
    }
   ],
   "source": [
    "sns.barplot(data = data, x = data['sentiment'], y = data['Rating'])"
   ]
  },
  {
   "cell_type": "code",
   "execution_count": 18,
   "id": "9da49ba2",
   "metadata": {},
   "outputs": [
    {
     "data": {
      "text/plain": [
       "Rating\n",
       "5    9054\n",
       "4    6039\n",
       "3    2184\n",
       "2    1793\n",
       "1    1421\n",
       "Name: count, dtype: int64"
      ]
     },
     "execution_count": 18,
     "metadata": {},
     "output_type": "execute_result"
    }
   ],
   "source": [
    "data['Rating'].value_counts()"
   ]
  },
  {
   "cell_type": "code",
   "execution_count": 19,
   "id": "e45e19d4",
   "metadata": {},
   "outputs": [
    {
     "data": {
      "text/plain": [
       "Rating\n",
       "5    9054\n",
       "4    6039\n",
       "3    2184\n",
       "2    1793\n",
       "1    1421\n",
       "Name: count, dtype: int64"
      ]
     },
     "execution_count": 19,
     "metadata": {},
     "output_type": "execute_result"
    }
   ],
   "source": [
    "rating_counts  = data['Rating'].value_counts()\n",
    "rating_counts"
   ]
  },
  {
   "cell_type": "code",
   "execution_count": 20,
   "id": "d566b334",
   "metadata": {},
   "outputs": [
    {
     "data": {
      "text/plain": [
       "([<matplotlib.patches.Wedge at 0x7fa82f3e8bd0>,\n",
       "  <matplotlib.patches.Wedge at 0x7fa82f3eadd0>,\n",
       "  <matplotlib.patches.Wedge at 0x7fa82f3ecb90>,\n",
       "  <matplotlib.patches.Wedge at 0x7fa82f3ee690>,\n",
       "  <matplotlib.patches.Wedge at 0x7fa82f3fc2d0>],\n",
       " [Text(0.19982756971415777, 1.0816972507971598, '5'),\n",
       "  Text(-0.9316753506424054, -0.5847914508654783, '4'),\n",
       "  Text(0.2726145177672828, -1.0656835011871546, '3'),\n",
       "  Text(0.8337544318741861, -0.7175329590549505, '2'),\n",
       "  Text(1.0739980347578135, -0.23775664309615957, '1')],\n",
       " [Text(0.10899685620772241, 0.5900166822529962, '44.19'),\n",
       "  Text(-0.5081865548958574, -0.3189771550175336, '29.47'),\n",
       "  Text(0.14869882787306332, -0.5812819097384478, '10.66'),\n",
       "  Text(0.4547751446586469, -0.391381614029973, '8.75'),\n",
       "  Text(0.5858171098678983, -0.1296854416888143, '6.93')])"
      ]
     },
     "execution_count": 20,
     "metadata": {},
     "output_type": "execute_result"
    },
    {
     "data": {
      "image/png": "[encoded data removed]",
      "text/plain": [
       "<Figure size 640x480 with 1 Axes>"
      ]
     },
     "metadata": {},
     "output_type": "display_data"
    }
   ],
   "source": [
    "plt.pie(rating_counts, autopct = '%.2f', labels=rating_counts.index)"
   ]
  },
  {
   "cell_type": "markdown",
   "id": "28e59680",
   "metadata": {},
   "source": [
    "## Keywords"
   ]
  },
  {
   "cell_type": "code",
   "execution_count": 21,
   "id": "aad7336c",
   "metadata": {},
   "outputs": [
    {
     "name": "stdout",
     "output_type": "stream",
     "text": [
      "Requirement already satisfied: yake in /home/kanhaiya/anaconda3/lib/python3.11/site-packages (0.4.8)\n",
      "Requirement already satisfied: tabulate in /home/kanhaiya/anaconda3/lib/python3.11/site-packages (from yake) (0.8.10)\n",
      "Requirement already satisfied: click>=6.0 in /home/kanhaiya/anaconda3/lib/python3.11/site-packages (from yake) (8.0.4)\n",
      "Requirement already satisfied: numpy in /home/kanhaiya/anaconda3/lib/python3.11/site-packages (from yake) (1.24.3)\n",
      "Requirement already satisfied: segtok in /home/kanhaiya/anaconda3/lib/python3.11/site-packages (from yake) (1.5.11)\n",
      "Requirement already satisfied: networkx in /home/kanhaiya/anaconda3/lib/python3.11/site-packages (from yake) (3.1)\n",
      "Requirement already satisfied: jellyfish in /home/kanhaiya/anaconda3/lib/python3.11/site-packages (from yake) (1.0.1)\n",
      "Requirement already satisfied: regex in /home/kanhaiya/anaconda3/lib/python3.11/site-packages (from segtok->yake) (2022.7.9)\n",
      "\u001b[33mWARNING: There was an error checking the latest version of pip.\u001b[0m\u001b[33m\n",
      "\u001b[0m"
     ]
    }
   ],
   "source": [
    "!pip install yake\n",
    "import yake"
   ]
  },
  {
   "cell_type": "code",
   "execution_count": 22,
   "id": "5dc32a44",
   "metadata": {},
   "outputs": [],
   "source": [
    "text_corpus = data['Review'].tolist()\n",
    "language = \"en\"\n",
    "\n",
    "keyword_extractor = yake.KeywordExtractor(lan=language, n=1, dedupLim=0.9, dedupFunc=\"seqm\")\n",
    "\n",
    "# Extract keywords for each document\n",
    "keywords_list = []\n",
    "for text in text_corpus:\n",
    "    keywords = keyword_extractor.extract_keywords(text)\n",
    "    keywords_list.append([kw for kw, score in keywords])\n",
    "\n",
    "\n",
    "data[\"keywords\"] = [' '.join(keywords) for keywords in keywords_list]\n",
    "data[\"keywords\"] = data[\"keywords\"].astype(\"str\").str.replace('\\n', ',')"
   ]
  },
  {
   "cell_type": "code",
   "execution_count": 23,
   "id": "85b80db1",
   "metadata": {},
   "outputs": [],
   "source": [
    "words = []\n",
    "\n",
    "for x in data.keywords.values:\n",
    "    x=x.split(' ')\n",
    "    for i in x:\n",
    "        words.append(i)\n"
   ]
  },
  {
   "cell_type": "code",
   "execution_count": 24,
   "id": "38a0dd2e",
   "metadata": {},
   "outputs": [],
   "source": [
    "from collections import Counter\n",
    "word_counter = Counter(words)\n",
    "word_df = pd.DataFrame(np.array(list(word_counter.items())),columns=[\"keyword\",\"count\"])\n"
   ]
  },
  {
   "cell_type": "code",
   "execution_count": 25,
   "id": "4490f8b2",
   "metadata": {},
   "outputs": [
    {
     "data": {
      "text/html": [
       "<div>\n",
       "<style scoped>\n",
       "    .dataframe tbody tr th:only-of-type {\n",
       "        vertical-align: middle;\n",
       "    }\n",
       "\n",
       "    .dataframe tbody tr th {\n",
       "        vertical-align: top;\n",
       "    }\n",
       "\n",
       "    .dataframe thead th {\n",
       "        text-align: right;\n",
       "    }\n",
       "</style>\n",
       "<table border=\"1\" class=\"dataframe\">\n",
       "  <thead>\n",
       "    <tr style=\"text-align: right;\">\n",
       "      <th></th>\n",
       "      <th>keyword</th>\n",
       "      <th>count</th>\n",
       "    </tr>\n",
       "  </thead>\n",
       "  <tbody>\n",
       "    <tr>\n",
       "      <th>3</th>\n",
       "      <td>hotel</td>\n",
       "      <td>13979</td>\n",
       "    </tr>\n",
       "    <tr>\n",
       "      <th>2</th>\n",
       "      <td>room</td>\n",
       "      <td>9857</td>\n",
       "    </tr>\n",
       "    <tr>\n",
       "      <th>49</th>\n",
       "      <td>great</td>\n",
       "      <td>7743</td>\n",
       "    </tr>\n",
       "    <tr>\n",
       "      <th>90</th>\n",
       "      <td>stayed</td>\n",
       "      <td>6270</td>\n",
       "    </tr>\n",
       "    <tr>\n",
       "      <th>4</th>\n",
       "      <td>stay</td>\n",
       "      <td>5995</td>\n",
       "    </tr>\n",
       "    <tr>\n",
       "      <th>89</th>\n",
       "      <td>staff</td>\n",
       "      <td>5755</td>\n",
       "    </tr>\n",
       "    <tr>\n",
       "      <th>8</th>\n",
       "      <td>good</td>\n",
       "      <td>5314</td>\n",
       "    </tr>\n",
       "    <tr>\n",
       "      <th>62</th>\n",
       "      <td>location</td>\n",
       "      <td>5022</td>\n",
       "    </tr>\n",
       "    <tr>\n",
       "      <th>0</th>\n",
       "      <td>nice</td>\n",
       "      <td>3966</td>\n",
       "    </tr>\n",
       "    <tr>\n",
       "      <th>166</th>\n",
       "      <td>rooms</td>\n",
       "      <td>3395</td>\n",
       "    </tr>\n",
       "  </tbody>\n",
       "</table>\n",
       "</div>"
      ],
      "text/plain": [
       "      keyword  count\n",
       "3       hotel  13979\n",
       "2        room   9857\n",
       "49      great   7743\n",
       "90     stayed   6270\n",
       "4        stay   5995\n",
       "89      staff   5755\n",
       "8        good   5314\n",
       "62   location   5022\n",
       "0        nice   3966\n",
       "166     rooms   3395"
      ]
     },
     "execution_count": 25,
     "metadata": {},
     "output_type": "execute_result"
    }
   ],
   "source": [
    "word_df[\"count\"] = word_df[\"count\"].astype(int)\n",
    "word_df = word_df.sort_values(['count'], ascending=False)\n",
    "top_20 = word_df[0:19]\n",
    "word_df.head(10)"
   ]
  },
  {
   "cell_type": "markdown",
   "id": "f68063f6",
   "metadata": {},
   "source": [
    "## Dealing with stopwords"
   ]
  },
  {
   "cell_type": "code",
   "execution_count": 39,
   "id": "c0a2ba2a",
   "metadata": {},
   "outputs": [
    {
     "name": "stderr",
     "output_type": "stream",
     "text": [
      "[nltk_data] Downloading package stopwords to\n",
      "[nltk_data]     /home/kanhaiya/nltk_data...\n",
      "[nltk_data]   Package stopwords is already up-to-date!\n",
      "[nltk_data] Downloading package wordnet to /home/kanhaiya/nltk_data...\n",
      "[nltk_data]   Package wordnet is already up-to-date!\n",
      "[nltk_data] Downloading package punkt to /home/kanhaiya/nltk_data...\n",
      "[nltk_data]   Package punkt is already up-to-date!\n"
     ]
    }
   ],
   "source": [
    "import nltk\n",
    "nltk.download('stopwords')\n",
    "nltk.download('wordnet')\n",
    "nltk.download('punkt')\n",
    "from nltk.corpus import stopwords\n",
    "from nltk.tokenize import word_tokenize\n",
    "from nltk.tokenize import word_tokenize\n",
    "from nltk.stem import WordNetLemmatizer"
   ]
  },
  {
   "cell_type": "code",
   "execution_count": 34,
   "id": "7e2b92f9",
   "metadata": {},
   "outputs": [],
   "source": [
    "top5 = [\"hotel\",\"room\",\"rooms\",\"hotels\"]\n",
    "for x in top5:\n",
    "    data[\"Review\"] = data[\"Review\"].astype(str).str.replace(x,\"\")"
   ]
  },
  {
   "cell_type": "code",
   "execution_count": 35,
   "id": "47d7f695",
   "metadata": {},
   "outputs": [],
   "source": [
    "data2  =  data.copy()\n",
    "def removing_stopwords(text):\n",
    "    stopword      = set(stopwords.words('english'))\n",
    "    word_token     = word_tokenize(text)\n",
    "    filtered_sent  =  [w for w in word_token if not w in stopword]\n",
    "    return filtered_sent\n",
    "\n",
    "data2['Review'] = data2['Review'].apply(removing_stopwords)"
   ]
  },
  {
   "cell_type": "code",
   "execution_count": 40,
   "id": "8b90d8f9",
   "metadata": {},
   "outputs": [],
   "source": [
    "lemmatizer = WordNetLemmatizer()\n",
    "def lemmatize_data(data):\n",
    "    lema_data = []\n",
    "    for j in data:\n",
    "        tokens             = word_tokenize(j)\n",
    "        lemmatized_tokens  = [lemmatizer.lemmatize(token.lower()) for token in tokens]\n",
    "        lema_data.append(\" \".join(lemmatized_tokens))\n",
    "    return lema_data"
   ]
  },
  {
   "cell_type": "code",
   "execution_count": 41,
   "id": "eec13a85",
   "metadata": {},
   "outputs": [],
   "source": [
    "data2['Review'] = data2['Review'].apply(lemmatize_data)"
   ]
  },
  {
   "cell_type": "code",
   "execution_count": 42,
   "id": "cceb9905",
   "metadata": {},
   "outputs": [],
   "source": [
    "data2[\"Review\"] = data2[\"Review\"].apply(lambda x:\" \".join(token for token in x))"
   ]
  },
  {
   "cell_type": "code",
   "execution_count": 43,
   "id": "5c8d36df",
   "metadata": {},
   "outputs": [
    {
     "data": {
      "text/html": [
       "<div>\n",
       "<style scoped>\n",
       "    .dataframe tbody tr th:only-of-type {\n",
       "        vertical-align: middle;\n",
       "    }\n",
       "\n",
       "    .dataframe tbody tr th {\n",
       "        vertical-align: top;\n",
       "    }\n",
       "\n",
       "    .dataframe thead th {\n",
       "        text-align: right;\n",
       "    }\n",
       "</style>\n",
       "<table border=\"1\" class=\"dataframe\">\n",
       "  <thead>\n",
       "    <tr style=\"text-align: right;\">\n",
       "      <th></th>\n",
       "      <th>S.No.</th>\n",
       "      <th>Review</th>\n",
       "      <th>Rating</th>\n",
       "      <th>sentiment_score</th>\n",
       "      <th>sentiment</th>\n",
       "      <th>keywords</th>\n",
       "    </tr>\n",
       "  </thead>\n",
       "  <tbody>\n",
       "    <tr>\n",
       "      <th>0</th>\n",
       "      <td>1</td>\n",
       "      <td>nice expensive parking got good deal stay anni...</td>\n",
       "      <td>4</td>\n",
       "      <td>0.9747</td>\n",
       "      <td>positive</td>\n",
       "      <td>nice parking room hotel stay night pay expensi...</td>\n",
       "    </tr>\n",
       "    <tr>\n",
       "      <th>1</th>\n",
       "      <td>2</td>\n",
       "      <td>ok nothing special charge diamond member hilto...</td>\n",
       "      <td>2</td>\n",
       "      <td>0.9787</td>\n",
       "      <td>positive</td>\n",
       "      <td>room website desk email good hotel breakfast s...</td>\n",
       "    </tr>\n",
       "  </tbody>\n",
       "</table>\n",
       "</div>"
      ],
      "text/plain": [
       "   S.No.                                             Review  Rating  \\\n",
       "0      1  nice expensive parking got good deal stay anni...       4   \n",
       "1      2  ok nothing special charge diamond member hilto...       2   \n",
       "\n",
       "   sentiment_score sentiment  \\\n",
       "0           0.9747  positive   \n",
       "1           0.9787  positive   \n",
       "\n",
       "                                            keywords  \n",
       "0  nice parking room hotel stay night pay expensi...  \n",
       "1  room website desk email good hotel breakfast s...  "
      ]
     },
     "execution_count": 43,
     "metadata": {},
     "output_type": "execute_result"
    }
   ],
   "source": [
    "data2.head(2)"
   ]
  },
  {
   "cell_type": "markdown",
   "id": "3e7e9247",
   "metadata": {},
   "source": [
    "## Word2Vec"
   ]
  },
  {
   "cell_type": "code",
   "execution_count": 53,
   "id": "8b1571bf",
   "metadata": {},
   "outputs": [],
   "source": [
    "import tensorflow as tf\n",
    "from tensorflow.keras.preprocessing.text import Tokenizer"
   ]
  },
  {
   "cell_type": "code",
   "execution_count": 57,
   "id": "df892b68",
   "metadata": {},
   "outputs": [],
   "source": [
    "x = data2['Review'].values\n",
    "tokenizer = Tokenizer()\n",
    "tokenizer.fit_on_texts(x)"
   ]
  },
  {
   "cell_type": "code",
   "execution_count": 59,
   "id": "7b526be1",
   "metadata": {},
   "outputs": [],
   "source": [
    "X            =  tokenizer.texts_to_sequences(x)\n",
    "max_length   =   max([len(x) for x in X])"
   ]
  },
  {
   "cell_type": "code",
   "execution_count": 60,
   "id": "7b1f47c9",
   "metadata": {},
   "outputs": [
    {
     "data": {
      "text/plain": [
       "1931"
      ]
     },
     "execution_count": 60,
     "metadata": {},
     "output_type": "execute_result"
    }
   ],
   "source": [
    "max_length"
   ]
  },
  {
   "cell_type": "markdown",
   "id": "d3b38790",
   "metadata": {},
   "source": [
    "## Vocabulary"
   ]
  },
  {
   "cell_type": "code",
   "execution_count": 62,
   "id": "26c4e472",
   "metadata": {},
   "outputs": [],
   "source": [
    "vocab_size = len(tokenizer.word_index)+1\n"
   ]
  },
  {
   "cell_type": "code",
   "execution_count": 63,
   "id": "0cfe6f01",
   "metadata": {},
   "outputs": [
    {
     "data": {
      "text/plain": [
       "(1931, 48976)"
      ]
     },
     "execution_count": 63,
     "metadata": {},
     "output_type": "execute_result"
    }
   ],
   "source": [
    "max_length,  vocab_size"
   ]
  },
  {
   "cell_type": "markdown",
   "id": "eacf92b1",
   "metadata": {},
   "source": [
    "## Padding"
   ]
  },
  {
   "cell_type": "code",
   "execution_count": 64,
   "id": "e6987814",
   "metadata": {},
   "outputs": [],
   "source": [
    "from keras.preprocessing.sequence import pad_sequences"
   ]
  },
  {
   "cell_type": "code",
   "execution_count": 65,
   "id": "d78ca967",
   "metadata": {},
   "outputs": [],
   "source": [
    "X = pad_sequences(X, maxlen = 600, padding = 'post')"
   ]
  },
  {
   "cell_type": "code",
   "execution_count": 66,
   "id": "240cc502",
   "metadata": {},
   "outputs": [],
   "source": [
    "labels = ['1', '2', '3', '4', '5']\n",
    "          \n",
    "y = data['Rating']\n",
    "y = y.map({1: 0,\n",
    "            2: 1,\n",
    "            3: 2,\n",
    "            4: 3,\n",
    "            5: 4\n",
    "           })"
   ]
  },
  {
   "cell_type": "markdown",
   "id": "5610d43a",
   "metadata": {},
   "source": [
    "## splitting the data"
   ]
  },
  {
   "cell_type": "code",
   "execution_count": 67,
   "id": "d2012ee6",
   "metadata": {},
   "outputs": [],
   "source": [
    "from sklearn.model_selection import train_test_split"
   ]
  },
  {
   "cell_type": "code",
   "execution_count": 68,
   "id": "9fae6bf7",
   "metadata": {},
   "outputs": [],
   "source": [
    "x_train, x_test, y_train, y_test = train_test_split(X, y, test_size = 0.1, random_state = 42)"
   ]
  },
  {
   "cell_type": "code",
   "execution_count": null,
   "id": "269ac3d8",
   "metadata": {},
   "outputs": [],
   "source": []
  },
  {
   "cell_type": "code",
   "execution_count": 73,
   "id": "d7e29e11",
   "metadata": {},
   "outputs": [],
   "source": [
    "import tensorflow.keras.layers as L\n",
    "from tensorflow.keras.losses import MeanAbsoluteError\n",
    "from tensorflow.keras.losses import SparseCategoricalCrossentropy\n",
    "from keras.models import Sequential\n",
    "from keras.layers import Embedding"
   ]
  },
  {
   "cell_type": "code",
   "execution_count": 81,
   "id": "53b8e7dd",
   "metadata": {},
   "outputs": [],
   "source": [
    "embedding_dim = 16\n",
    "units = 76"
   ]
  },
  {
   "cell_type": "code",
   "execution_count": 82,
   "id": "0449c85c",
   "metadata": {},
   "outputs": [],
   "source": [
    "model = tf.keras.Sequential([\n",
    "    L.Embedding(vocab_size, embedding_dim, input_length=X.shape[1]),\n",
    "    L.Bidirectional(L.LSTM(units, return_sequences=True)),\n",
    "    L.Conv1D(64, 3),\n",
    "    L.MaxPool1D(pool_size=2),\n",
    "    L.Flatten(),\n",
    "    L.Dropout(0.2),\n",
    "    L.Dense(128, activation=\"relu\"),\n",
    "    L.Dropout(0.2),\n",
    "    L.Dense(64, activation=\"relu\"),\n",
    "    L.Dropout(0.2),\n",
    "    L.Dense(5, activation=\"softmax\")\n",
    "])"
   ]
  },
  {
   "cell_type": "code",
   "execution_count": 83,
   "id": "84a2c335",
   "metadata": {},
   "outputs": [],
   "source": [
    "model.compile(loss=SparseCategoricalCrossentropy(),\n",
    "              optimizer='adam',metrics=['accuracy']\n",
    "             )"
   ]
  },
  {
   "cell_type": "code",
   "execution_count": 86,
   "id": "319fb9eb",
   "metadata": {},
   "outputs": [
    {
     "name": "stdout",
     "output_type": "stream",
     "text": [
      "Epoch 1/5\n",
      "130/130 - 147s - loss: 1.1387 - accuracy: 0.4890 - val_loss: 0.9195 - val_accuracy: 0.5852 - 147s/epoch - 1s/step\n",
      "Epoch 2/5\n",
      "130/130 - 132s - loss: 0.8394 - accuracy: 0.6226 - val_loss: 0.8672 - val_accuracy: 0.6204 - 132s/epoch - 1s/step\n",
      "Epoch 3/5\n",
      "130/130 - 130s - loss: 0.6944 - accuracy: 0.7011 - val_loss: 0.9228 - val_accuracy: 0.6159 - 130s/epoch - 1000ms/step\n",
      "Epoch 4/5\n",
      "130/130 - 130s - loss: 0.5410 - accuracy: 0.7787 - val_loss: 1.0392 - val_accuracy: 0.6064 - 130s/epoch - 1s/step\n",
      "Epoch 5/5\n",
      "130/130 - 131s - loss: 0.4182 - accuracy: 0.8379 - val_loss: 1.2267 - val_accuracy: 0.5847 - 131s/epoch - 1s/step\n"
     ]
    }
   ],
   "source": [
    "history = model.fit(x_train, y_train, epochs=int(5), validation_split=float(0.12), batch_size=int(125), verbose=2)"
   ]
  },
  {
   "cell_type": "code",
   "execution_count": 87,
   "id": "71676cd3",
   "metadata": {},
   "outputs": [
    {
     "name": "stdout",
     "output_type": "stream",
     "text": [
      "65/65 [==============================] - 9s 128ms/step\n"
     ]
    },
    {
     "data": {
      "text/plain": [
       "array([0, 4, 2, ..., 4, 1, 4])"
      ]
     },
     "execution_count": 87,
     "metadata": {},
     "output_type": "execute_result"
    }
   ],
   "source": [
    "pred = model.predict(x_test)\n",
    "pred_final = np.argmax(pred,axis=-1)\n",
    "pred_final"
   ]
  },
  {
   "cell_type": "markdown",
   "id": "bbb16a67",
   "metadata": {},
   "source": [
    "## Accuracy score"
   ]
  },
  {
   "cell_type": "code",
   "execution_count": 88,
   "id": "cc765904",
   "metadata": {},
   "outputs": [
    {
     "name": "stdout",
     "output_type": "stream",
     "text": [
      "Accuracy: 60%\n"
     ]
    }
   ],
   "source": [
    "from sklearn.metrics import accuracy_score\n",
    "print('Accuracy: {}%'.format(round(accuracy_score(pred_final, y_test)*100),2))"
   ]
  },
  {
   "cell_type": "code",
   "execution_count": null,
   "id": "53544e1d",
   "metadata": {},
   "outputs": [],
   "source": []
  }
 ],
 "metadata": {
  "kernelspec": {
   "display_name": "Python 3 (ipykernel)",
   "language": "python",
   "name": "python3"
  },
  "language_info": {
   "codemirror_mode": {
    "name": "ipython",
    "version": 3
   },
   "file_extension": ".py",
   "mimetype": "text/x-python",
   "name": "python",
   "nbconvert_exporter": "python",
   "pygments_lexer": "ipython3",
   "version": "3.11.5"
  }
 },
 "nbformat": 4,
 "nbformat_minor": 5
}
